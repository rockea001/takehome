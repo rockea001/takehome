{
 "cells": [
  {
   "cell_type": "markdown",
   "id": "a2a45e91",
   "metadata": {},
   "source": [
    "# Take - Home Quiz "
   ]
  },
  {
   "cell_type": "markdown",
   "id": "0d40a822",
   "metadata": {},
   "source": [
    "#### Load Required Libraries"
   ]
  },
  {
   "cell_type": "code",
   "execution_count": 1,
   "id": "2660770d",
   "metadata": {
    "scrolled": false
   },
   "outputs": [],
   "source": [
    "import pandas as pd\n",
    "import numpy as np\n",
    "import seaborn as sns\n",
    "import matplotlib.pyplot as plt\n",
    "from sklearn.model_selection import train_test_split\n",
    "from tensorflow.keras.models import Sequential\n",
    "from tensorflow.keras.layers import Dense\n",
    "from tensorflow.keras.optimizers import Adam\n",
    "from sklearn.metrics import mean_squared_error"
   ]
  },
  {
   "cell_type": "markdown",
   "id": "a19c793b",
   "metadata": {},
   "source": [
    "#### Adjust plotting settings for better visualization."
   ]
  },
  {
   "cell_type": "code",
   "execution_count": 36,
   "id": "c983e863",
   "metadata": {},
   "outputs": [],
   "source": [
    "plt.rcParams['figure.figsize'] = (16, 10)"
   ]
  },
  {
   "cell_type": "code",
   "execution_count": 3,
   "id": "62b88e02",
   "metadata": {
    "scrolled": true
   },
   "outputs": [
    {
     "data": {
      "text/html": [
       "<div>\n",
       "<style scoped>\n",
       "    .dataframe tbody tr th:only-of-type {\n",
       "        vertical-align: middle;\n",
       "    }\n",
       "\n",
       "    .dataframe tbody tr th {\n",
       "        vertical-align: top;\n",
       "    }\n",
       "\n",
       "    .dataframe thead th {\n",
       "        text-align: right;\n",
       "    }\n",
       "</style>\n",
       "<table border=\"1\" class=\"dataframe\">\n",
       "  <thead>\n",
       "    <tr style=\"text-align: right;\">\n",
       "      <th></th>\n",
       "      <th>id</th>\n",
       "      <th>date</th>\n",
       "      <th>price</th>\n",
       "      <th>bedrooms</th>\n",
       "      <th>bathrooms</th>\n",
       "      <th>sqft_living</th>\n",
       "      <th>sqft_lot</th>\n",
       "      <th>floors</th>\n",
       "      <th>waterfront</th>\n",
       "      <th>view</th>\n",
       "      <th>...</th>\n",
       "      <th>grade</th>\n",
       "      <th>sqft_above</th>\n",
       "      <th>sqft_basement</th>\n",
       "      <th>yr_built</th>\n",
       "      <th>yr_renovated</th>\n",
       "      <th>zipcode</th>\n",
       "      <th>lat</th>\n",
       "      <th>long</th>\n",
       "      <th>sqft_living15</th>\n",
       "      <th>sqft_lot15</th>\n",
       "    </tr>\n",
       "  </thead>\n",
       "  <tbody>\n",
       "    <tr>\n",
       "      <th>0</th>\n",
       "      <td>7234600098</td>\n",
       "      <td>20140905T000000</td>\n",
       "      <td>552100.0</td>\n",
       "      <td>3</td>\n",
       "      <td>3.0</td>\n",
       "      <td>1330</td>\n",
       "      <td>1379</td>\n",
       "      <td>2.0</td>\n",
       "      <td>0</td>\n",
       "      <td>0</td>\n",
       "      <td>...</td>\n",
       "      <td>8</td>\n",
       "      <td>1120</td>\n",
       "      <td>210</td>\n",
       "      <td>2005</td>\n",
       "      <td>0</td>\n",
       "      <td>98122</td>\n",
       "      <td>47.6126</td>\n",
       "      <td>-122.313</td>\n",
       "      <td>1810</td>\n",
       "      <td>1770</td>\n",
       "    </tr>\n",
       "    <tr>\n",
       "      <th>1</th>\n",
       "      <td>4221250340</td>\n",
       "      <td>20150409T000000</td>\n",
       "      <td>625000.0</td>\n",
       "      <td>3</td>\n",
       "      <td>2.5</td>\n",
       "      <td>2280</td>\n",
       "      <td>4757</td>\n",
       "      <td>2.0</td>\n",
       "      <td>0</td>\n",
       "      <td>0</td>\n",
       "      <td>...</td>\n",
       "      <td>8</td>\n",
       "      <td>2280</td>\n",
       "      <td>0</td>\n",
       "      <td>2003</td>\n",
       "      <td>0</td>\n",
       "      <td>98075</td>\n",
       "      <td>47.5901</td>\n",
       "      <td>-122.018</td>\n",
       "      <td>2280</td>\n",
       "      <td>4534</td>\n",
       "    </tr>\n",
       "    <tr>\n",
       "      <th>2</th>\n",
       "      <td>546000820</td>\n",
       "      <td>20141110T000000</td>\n",
       "      <td>415000.0</td>\n",
       "      <td>2</td>\n",
       "      <td>1.0</td>\n",
       "      <td>980</td>\n",
       "      <td>4108</td>\n",
       "      <td>1.0</td>\n",
       "      <td>0</td>\n",
       "      <td>0</td>\n",
       "      <td>...</td>\n",
       "      <td>7</td>\n",
       "      <td>980</td>\n",
       "      <td>0</td>\n",
       "      <td>1947</td>\n",
       "      <td>0</td>\n",
       "      <td>98117</td>\n",
       "      <td>47.6870</td>\n",
       "      <td>-122.381</td>\n",
       "      <td>1500</td>\n",
       "      <td>4046</td>\n",
       "    </tr>\n",
       "    <tr>\n",
       "      <th>3</th>\n",
       "      <td>8682250330</td>\n",
       "      <td>20140624T000000</td>\n",
       "      <td>675000.0</td>\n",
       "      <td>3</td>\n",
       "      <td>3.5</td>\n",
       "      <td>2300</td>\n",
       "      <td>5611</td>\n",
       "      <td>1.0</td>\n",
       "      <td>0</td>\n",
       "      <td>0</td>\n",
       "      <td>...</td>\n",
       "      <td>8</td>\n",
       "      <td>2300</td>\n",
       "      <td>0</td>\n",
       "      <td>2004</td>\n",
       "      <td>0</td>\n",
       "      <td>98053</td>\n",
       "      <td>47.7122</td>\n",
       "      <td>-122.026</td>\n",
       "      <td>2170</td>\n",
       "      <td>5926</td>\n",
       "    </tr>\n",
       "    <tr>\n",
       "      <th>4</th>\n",
       "      <td>7579200600</td>\n",
       "      <td>20150428T000000</td>\n",
       "      <td>575000.0</td>\n",
       "      <td>3</td>\n",
       "      <td>2.0</td>\n",
       "      <td>1750</td>\n",
       "      <td>5750</td>\n",
       "      <td>1.0</td>\n",
       "      <td>0</td>\n",
       "      <td>2</td>\n",
       "      <td>...</td>\n",
       "      <td>7</td>\n",
       "      <td>870</td>\n",
       "      <td>880</td>\n",
       "      <td>1956</td>\n",
       "      <td>0</td>\n",
       "      <td>98116</td>\n",
       "      <td>47.5579</td>\n",
       "      <td>-122.384</td>\n",
       "      <td>1750</td>\n",
       "      <td>5750</td>\n",
       "    </tr>\n",
       "  </tbody>\n",
       "</table>\n",
       "<p>5 rows × 21 columns</p>\n",
       "</div>"
      ],
      "text/plain": [
       "           id             date     price  bedrooms  bathrooms  sqft_living  \\\n",
       "0  7234600098  20140905T000000  552100.0         3        3.0         1330   \n",
       "1  4221250340  20150409T000000  625000.0         3        2.5         2280   \n",
       "2   546000820  20141110T000000  415000.0         2        1.0          980   \n",
       "3  8682250330  20140624T000000  675000.0         3        3.5         2300   \n",
       "4  7579200600  20150428T000000  575000.0         3        2.0         1750   \n",
       "\n",
       "   sqft_lot  floors  waterfront  view  ...  grade  sqft_above  sqft_basement  \\\n",
       "0      1379     2.0           0     0  ...      8        1120            210   \n",
       "1      4757     2.0           0     0  ...      8        2280              0   \n",
       "2      4108     1.0           0     0  ...      7         980              0   \n",
       "3      5611     1.0           0     0  ...      8        2300              0   \n",
       "4      5750     1.0           0     2  ...      7         870            880   \n",
       "\n",
       "   yr_built  yr_renovated  zipcode      lat     long  sqft_living15  \\\n",
       "0      2005             0    98122  47.6126 -122.313           1810   \n",
       "1      2003             0    98075  47.5901 -122.018           2280   \n",
       "2      1947             0    98117  47.6870 -122.381           1500   \n",
       "3      2004             0    98053  47.7122 -122.026           2170   \n",
       "4      1956             0    98116  47.5579 -122.384           1750   \n",
       "\n",
       "   sqft_lot15  \n",
       "0        1770  \n",
       "1        4534  \n",
       "2        4046  \n",
       "3        5926  \n",
       "4        5750  \n",
       "\n",
       "[5 rows x 21 columns]"
      ]
     },
     "execution_count": 3,
     "metadata": {},
     "output_type": "execute_result"
    }
   ],
   "source": [
    "data = pd.read_csv(\"housing_sampled.csv\")\n",
    "data.head()"
   ]
  },
  {
   "cell_type": "markdown",
   "id": "c21d9eb7",
   "metadata": {},
   "source": [
    "#### Select Proposed Variables in the Instructions"
   ]
  },
  {
   "cell_type": "code",
   "execution_count": 4,
   "id": "2addba57",
   "metadata": {
    "scrolled": true
   },
   "outputs": [
    {
     "data": {
      "text/html": [
       "<div>\n",
       "<style scoped>\n",
       "    .dataframe tbody tr th:only-of-type {\n",
       "        vertical-align: middle;\n",
       "    }\n",
       "\n",
       "    .dataframe tbody tr th {\n",
       "        vertical-align: top;\n",
       "    }\n",
       "\n",
       "    .dataframe thead th {\n",
       "        text-align: right;\n",
       "    }\n",
       "</style>\n",
       "<table border=\"1\" class=\"dataframe\">\n",
       "  <thead>\n",
       "    <tr style=\"text-align: right;\">\n",
       "      <th></th>\n",
       "      <th>price</th>\n",
       "      <th>bedrooms</th>\n",
       "      <th>bathrooms</th>\n",
       "      <th>sqft_living</th>\n",
       "      <th>floors</th>\n",
       "      <th>waterfront</th>\n",
       "      <th>view</th>\n",
       "    </tr>\n",
       "  </thead>\n",
       "  <tbody>\n",
       "    <tr>\n",
       "      <th>0</th>\n",
       "      <td>552100.0</td>\n",
       "      <td>3</td>\n",
       "      <td>3.00</td>\n",
       "      <td>1330</td>\n",
       "      <td>2.0</td>\n",
       "      <td>0</td>\n",
       "      <td>0</td>\n",
       "    </tr>\n",
       "    <tr>\n",
       "      <th>1</th>\n",
       "      <td>625000.0</td>\n",
       "      <td>3</td>\n",
       "      <td>2.50</td>\n",
       "      <td>2280</td>\n",
       "      <td>2.0</td>\n",
       "      <td>0</td>\n",
       "      <td>0</td>\n",
       "    </tr>\n",
       "    <tr>\n",
       "      <th>2</th>\n",
       "      <td>415000.0</td>\n",
       "      <td>2</td>\n",
       "      <td>1.00</td>\n",
       "      <td>980</td>\n",
       "      <td>1.0</td>\n",
       "      <td>0</td>\n",
       "      <td>0</td>\n",
       "    </tr>\n",
       "    <tr>\n",
       "      <th>3</th>\n",
       "      <td>675000.0</td>\n",
       "      <td>3</td>\n",
       "      <td>3.50</td>\n",
       "      <td>2300</td>\n",
       "      <td>1.0</td>\n",
       "      <td>0</td>\n",
       "      <td>0</td>\n",
       "    </tr>\n",
       "    <tr>\n",
       "      <th>4</th>\n",
       "      <td>575000.0</td>\n",
       "      <td>3</td>\n",
       "      <td>2.00</td>\n",
       "      <td>1750</td>\n",
       "      <td>1.0</td>\n",
       "      <td>0</td>\n",
       "      <td>2</td>\n",
       "    </tr>\n",
       "    <tr>\n",
       "      <th>5</th>\n",
       "      <td>327500.0</td>\n",
       "      <td>3</td>\n",
       "      <td>2.25</td>\n",
       "      <td>1770</td>\n",
       "      <td>1.0</td>\n",
       "      <td>0</td>\n",
       "      <td>0</td>\n",
       "    </tr>\n",
       "    <tr>\n",
       "      <th>6</th>\n",
       "      <td>140000.0</td>\n",
       "      <td>3</td>\n",
       "      <td>1.00</td>\n",
       "      <td>1000</td>\n",
       "      <td>1.0</td>\n",
       "      <td>0</td>\n",
       "      <td>0</td>\n",
       "    </tr>\n",
       "    <tr>\n",
       "      <th>7</th>\n",
       "      <td>322000.0</td>\n",
       "      <td>3</td>\n",
       "      <td>1.00</td>\n",
       "      <td>1230</td>\n",
       "      <td>1.0</td>\n",
       "      <td>0</td>\n",
       "      <td>0</td>\n",
       "    </tr>\n",
       "    <tr>\n",
       "      <th>8</th>\n",
       "      <td>356000.0</td>\n",
       "      <td>2</td>\n",
       "      <td>1.00</td>\n",
       "      <td>1430</td>\n",
       "      <td>1.0</td>\n",
       "      <td>0</td>\n",
       "      <td>0</td>\n",
       "    </tr>\n",
       "    <tr>\n",
       "      <th>9</th>\n",
       "      <td>260000.0</td>\n",
       "      <td>2</td>\n",
       "      <td>1.00</td>\n",
       "      <td>1410</td>\n",
       "      <td>1.5</td>\n",
       "      <td>0</td>\n",
       "      <td>0</td>\n",
       "    </tr>\n",
       "    <tr>\n",
       "      <th>10</th>\n",
       "      <td>1325000.0</td>\n",
       "      <td>3</td>\n",
       "      <td>2.50</td>\n",
       "      <td>2280</td>\n",
       "      <td>2.0</td>\n",
       "      <td>0</td>\n",
       "      <td>3</td>\n",
       "    </tr>\n",
       "    <tr>\n",
       "      <th>11</th>\n",
       "      <td>824000.0</td>\n",
       "      <td>2</td>\n",
       "      <td>1.00</td>\n",
       "      <td>1210</td>\n",
       "      <td>1.0</td>\n",
       "      <td>0</td>\n",
       "      <td>0</td>\n",
       "    </tr>\n",
       "    <tr>\n",
       "      <th>12</th>\n",
       "      <td>269950.0</td>\n",
       "      <td>3</td>\n",
       "      <td>2.50</td>\n",
       "      <td>1520</td>\n",
       "      <td>1.0</td>\n",
       "      <td>0</td>\n",
       "      <td>0</td>\n",
       "    </tr>\n",
       "    <tr>\n",
       "      <th>13</th>\n",
       "      <td>434900.0</td>\n",
       "      <td>3</td>\n",
       "      <td>2.00</td>\n",
       "      <td>1520</td>\n",
       "      <td>2.0</td>\n",
       "      <td>0</td>\n",
       "      <td>0</td>\n",
       "    </tr>\n",
       "    <tr>\n",
       "      <th>14</th>\n",
       "      <td>195000.0</td>\n",
       "      <td>2</td>\n",
       "      <td>2.00</td>\n",
       "      <td>1180</td>\n",
       "      <td>2.0</td>\n",
       "      <td>0</td>\n",
       "      <td>0</td>\n",
       "    </tr>\n",
       "    <tr>\n",
       "      <th>15</th>\n",
       "      <td>296000.0</td>\n",
       "      <td>3</td>\n",
       "      <td>1.75</td>\n",
       "      <td>1360</td>\n",
       "      <td>1.0</td>\n",
       "      <td>0</td>\n",
       "      <td>0</td>\n",
       "    </tr>\n",
       "    <tr>\n",
       "      <th>16</th>\n",
       "      <td>265000.0</td>\n",
       "      <td>3</td>\n",
       "      <td>2.00</td>\n",
       "      <td>1380</td>\n",
       "      <td>2.0</td>\n",
       "      <td>0</td>\n",
       "      <td>0</td>\n",
       "    </tr>\n",
       "    <tr>\n",
       "      <th>17</th>\n",
       "      <td>531500.0</td>\n",
       "      <td>4</td>\n",
       "      <td>2.75</td>\n",
       "      <td>3110</td>\n",
       "      <td>1.0</td>\n",
       "      <td>0</td>\n",
       "      <td>0</td>\n",
       "    </tr>\n",
       "    <tr>\n",
       "      <th>18</th>\n",
       "      <td>747500.0</td>\n",
       "      <td>4</td>\n",
       "      <td>2.50</td>\n",
       "      <td>2810</td>\n",
       "      <td>2.0</td>\n",
       "      <td>0</td>\n",
       "      <td>0</td>\n",
       "    </tr>\n",
       "    <tr>\n",
       "      <th>19</th>\n",
       "      <td>593000.0</td>\n",
       "      <td>5</td>\n",
       "      <td>2.50</td>\n",
       "      <td>2640</td>\n",
       "      <td>1.5</td>\n",
       "      <td>0</td>\n",
       "      <td>0</td>\n",
       "    </tr>\n",
       "  </tbody>\n",
       "</table>\n",
       "</div>"
      ],
      "text/plain": [
       "        price  bedrooms  bathrooms  sqft_living  floors  waterfront  view\n",
       "0    552100.0         3       3.00         1330     2.0           0     0\n",
       "1    625000.0         3       2.50         2280     2.0           0     0\n",
       "2    415000.0         2       1.00          980     1.0           0     0\n",
       "3    675000.0         3       3.50         2300     1.0           0     0\n",
       "4    575000.0         3       2.00         1750     1.0           0     2\n",
       "5    327500.0         3       2.25         1770     1.0           0     0\n",
       "6    140000.0         3       1.00         1000     1.0           0     0\n",
       "7    322000.0         3       1.00         1230     1.0           0     0\n",
       "8    356000.0         2       1.00         1430     1.0           0     0\n",
       "9    260000.0         2       1.00         1410     1.5           0     0\n",
       "10  1325000.0         3       2.50         2280     2.0           0     3\n",
       "11   824000.0         2       1.00         1210     1.0           0     0\n",
       "12   269950.0         3       2.50         1520     1.0           0     0\n",
       "13   434900.0         3       2.00         1520     2.0           0     0\n",
       "14   195000.0         2       2.00         1180     2.0           0     0\n",
       "15   296000.0         3       1.75         1360     1.0           0     0\n",
       "16   265000.0         3       2.00         1380     2.0           0     0\n",
       "17   531500.0         4       2.75         3110     1.0           0     0\n",
       "18   747500.0         4       2.50         2810     2.0           0     0\n",
       "19   593000.0         5       2.50         2640     1.5           0     0"
      ]
     },
     "execution_count": 4,
     "metadata": {},
     "output_type": "execute_result"
    }
   ],
   "source": [
    "df = data[['price','bedrooms', 'bathrooms', 'sqft_living', 'floors', 'waterfront', 'view']]\n",
    "df.head(20)"
   ]
  },
  {
   "cell_type": "code",
   "execution_count": 5,
   "id": "e9b28690",
   "metadata": {
    "scrolled": true
   },
   "outputs": [
    {
     "name": "stdout",
     "output_type": "stream",
     "text": [
      "<class 'pandas.core.frame.DataFrame'>\n",
      "RangeIndex: 3000 entries, 0 to 2999\n",
      "Data columns (total 7 columns):\n",
      " #   Column       Non-Null Count  Dtype  \n",
      "---  ------       --------------  -----  \n",
      " 0   price        3000 non-null   float64\n",
      " 1   bedrooms     3000 non-null   int64  \n",
      " 2   bathrooms    3000 non-null   float64\n",
      " 3   sqft_living  3000 non-null   int64  \n",
      " 4   floors       3000 non-null   float64\n",
      " 5   waterfront   3000 non-null   int64  \n",
      " 6   view         3000 non-null   int64  \n",
      "dtypes: float64(3), int64(4)\n",
      "memory usage: 164.2 KB\n"
     ]
    }
   ],
   "source": [
    "df.info()"
   ]
  },
  {
   "cell_type": "markdown",
   "id": "1ed48cf9",
   "metadata": {},
   "source": [
    "#### Create a scatterplot matrix to get general knowledge about variables."
   ]
  },
  {
   "cell_type": "code",
   "execution_count": 6,
   "id": "69ec913a",
   "metadata": {
    "scrolled": false
   },
   "outputs": [
    {
     "data": {
      "image/png": "[encoded data removed]",
      "text/plain": [
       "<Figure size 1260x1260 with 56 Axes>"
      ]
     },
     "metadata": {
      "needs_background": "light"
     },
     "output_type": "display_data"
    }
   ],
   "source": [
    "sns.pairplot(df)\n",
    "plt.show()"
   ]
  },
  {
   "cell_type": "markdown",
   "id": "5573220c",
   "metadata": {},
   "source": [
    "#### It seems that we do not have normally distributed variables, but we do not rely on normality in ANN. However, there seems some variables are correlated."
   ]
  },
  {
   "cell_type": "code",
   "execution_count": 37,
   "id": "17587be8",
   "metadata": {
    "scrolled": false
   },
   "outputs": [
    {
     "data": {
      "image/png": "[encoded data removed]",
      "text/plain": [
       "<Figure size 1152x720 with 2 Axes>"
      ]
     },
     "metadata": {
      "needs_background": "light"
     },
     "output_type": "display_data"
    }
   ],
   "source": [
    "sns.heatmap(df.corr(), annot=True, cmap='coolwarm')\n",
    "plt.title(\"Correlation Matrix Heatmap\")\n",
    "plt.show()"
   ]
  },
  {
   "cell_type": "markdown",
   "id": "b7103419",
   "metadata": {},
   "source": [
    "#### From correlation heatmap, we can also observe some slightly and highly correlated variables."
   ]
  },
  {
   "cell_type": "markdown",
   "id": "851defa6",
   "metadata": {},
   "source": [
    "#### Now, one should apply min-max scaling before proceeding further. For this purpose, a function will be created."
   ]
  },
  {
   "cell_type": "code",
   "execution_count": 8,
   "id": "b270ede4",
   "metadata": {},
   "outputs": [],
   "source": [
    "def scaling_min_max(x): # Function for scaling\n",
    "    return (x - x.min()) / (x.max() - x.min())"
   ]
  },
  {
   "cell_type": "code",
   "execution_count": 9,
   "id": "65957f91",
   "metadata": {
    "scrolled": false
   },
   "outputs": [
    {
     "data": {
      "text/html": [
       "<div>\n",
       "<style scoped>\n",
       "    .dataframe tbody tr th:only-of-type {\n",
       "        vertical-align: middle;\n",
       "    }\n",
       "\n",
       "    .dataframe tbody tr th {\n",
       "        vertical-align: top;\n",
       "    }\n",
       "\n",
       "    .dataframe thead th {\n",
       "        text-align: right;\n",
       "    }\n",
       "</style>\n",
       "<table border=\"1\" class=\"dataframe\">\n",
       "  <thead>\n",
       "    <tr style=\"text-align: right;\">\n",
       "      <th></th>\n",
       "      <th>price</th>\n",
       "      <th>bedrooms</th>\n",
       "      <th>bathrooms</th>\n",
       "      <th>sqft_living</th>\n",
       "      <th>floors</th>\n",
       "      <th>waterfront</th>\n",
       "      <th>view</th>\n",
       "    </tr>\n",
       "  </thead>\n",
       "  <tbody>\n",
       "    <tr>\n",
       "      <th>count</th>\n",
       "      <td>3.000000e+03</td>\n",
       "      <td>3000.000000</td>\n",
       "      <td>3000.000000</td>\n",
       "      <td>3000.000000</td>\n",
       "      <td>3000.000000</td>\n",
       "      <td>3000.000000</td>\n",
       "      <td>3000.000000</td>\n",
       "    </tr>\n",
       "    <tr>\n",
       "      <th>mean</th>\n",
       "      <td>5.357971e+05</td>\n",
       "      <td>3.387667</td>\n",
       "      <td>2.110083</td>\n",
       "      <td>2084.095333</td>\n",
       "      <td>1.497667</td>\n",
       "      <td>0.008000</td>\n",
       "      <td>0.239333</td>\n",
       "    </tr>\n",
       "    <tr>\n",
       "      <th>std</th>\n",
       "      <td>3.468307e+05</td>\n",
       "      <td>1.050277</td>\n",
       "      <td>0.763553</td>\n",
       "      <td>916.472026</td>\n",
       "      <td>0.545522</td>\n",
       "      <td>0.089099</td>\n",
       "      <td>0.766104</td>\n",
       "    </tr>\n",
       "    <tr>\n",
       "      <th>min</th>\n",
       "      <td>7.800000e+04</td>\n",
       "      <td>0.000000</td>\n",
       "      <td>0.000000</td>\n",
       "      <td>470.000000</td>\n",
       "      <td>1.000000</td>\n",
       "      <td>0.000000</td>\n",
       "      <td>0.000000</td>\n",
       "    </tr>\n",
       "    <tr>\n",
       "      <th>25%</th>\n",
       "      <td>3.230000e+05</td>\n",
       "      <td>3.000000</td>\n",
       "      <td>1.750000</td>\n",
       "      <td>1430.000000</td>\n",
       "      <td>1.000000</td>\n",
       "      <td>0.000000</td>\n",
       "      <td>0.000000</td>\n",
       "    </tr>\n",
       "    <tr>\n",
       "      <th>50%</th>\n",
       "      <td>4.510000e+05</td>\n",
       "      <td>3.000000</td>\n",
       "      <td>2.250000</td>\n",
       "      <td>1920.000000</td>\n",
       "      <td>1.500000</td>\n",
       "      <td>0.000000</td>\n",
       "      <td>0.000000</td>\n",
       "    </tr>\n",
       "    <tr>\n",
       "      <th>75%</th>\n",
       "      <td>6.500000e+05</td>\n",
       "      <td>4.000000</td>\n",
       "      <td>2.500000</td>\n",
       "      <td>2550.000000</td>\n",
       "      <td>2.000000</td>\n",
       "      <td>0.000000</td>\n",
       "      <td>0.000000</td>\n",
       "    </tr>\n",
       "    <tr>\n",
       "      <th>max</th>\n",
       "      <td>5.300000e+06</td>\n",
       "      <td>33.000000</td>\n",
       "      <td>6.500000</td>\n",
       "      <td>7880.000000</td>\n",
       "      <td>3.500000</td>\n",
       "      <td>1.000000</td>\n",
       "      <td>4.000000</td>\n",
       "    </tr>\n",
       "  </tbody>\n",
       "</table>\n",
       "</div>"
      ],
      "text/plain": [
       "              price     bedrooms    bathrooms  sqft_living       floors  \\\n",
       "count  3.000000e+03  3000.000000  3000.000000  3000.000000  3000.000000   \n",
       "mean   5.357971e+05     3.387667     2.110083  2084.095333     1.497667   \n",
       "std    3.468307e+05     1.050277     0.763553   916.472026     0.545522   \n",
       "min    7.800000e+04     0.000000     0.000000   470.000000     1.000000   \n",
       "25%    3.230000e+05     3.000000     1.750000  1430.000000     1.000000   \n",
       "50%    4.510000e+05     3.000000     2.250000  1920.000000     1.500000   \n",
       "75%    6.500000e+05     4.000000     2.500000  2550.000000     2.000000   \n",
       "max    5.300000e+06    33.000000     6.500000  7880.000000     3.500000   \n",
       "\n",
       "        waterfront         view  \n",
       "count  3000.000000  3000.000000  \n",
       "mean      0.008000     0.239333  \n",
       "std       0.089099     0.766104  \n",
       "min       0.000000     0.000000  \n",
       "25%       0.000000     0.000000  \n",
       "50%       0.000000     0.000000  \n",
       "75%       0.000000     0.000000  \n",
       "max       1.000000     4.000000  "
      ]
     },
     "execution_count": 9,
     "metadata": {},
     "output_type": "execute_result"
    }
   ],
   "source": [
    "df.describe()"
   ]
  },
  {
   "cell_type": "markdown",
   "id": "57c69210",
   "metadata": {},
   "source": [
    "#### Waterfront and view are categorical variables in here. So, using one-hot encoding might be beneficial. Just view is needed to be encoded, since waterfront is already in binary form."
   ]
  },
  {
   "cell_type": "code",
   "execution_count": 10,
   "id": "fcd9f0d9",
   "metadata": {},
   "outputs": [],
   "source": [
    "df_encoded = pd.get_dummies(df, columns=['view'], drop_first=True, dtype = 'int')"
   ]
  },
  {
   "cell_type": "code",
   "execution_count": 11,
   "id": "214df4f1",
   "metadata": {},
   "outputs": [
    {
     "data": {
      "text/html": [
       "<div>\n",
       "<style scoped>\n",
       "    .dataframe tbody tr th:only-of-type {\n",
       "        vertical-align: middle;\n",
       "    }\n",
       "\n",
       "    .dataframe tbody tr th {\n",
       "        vertical-align: top;\n",
       "    }\n",
       "\n",
       "    .dataframe thead th {\n",
       "        text-align: right;\n",
       "    }\n",
       "</style>\n",
       "<table border=\"1\" class=\"dataframe\">\n",
       "  <thead>\n",
       "    <tr style=\"text-align: right;\">\n",
       "      <th></th>\n",
       "      <th>price</th>\n",
       "      <th>bedrooms</th>\n",
       "      <th>bathrooms</th>\n",
       "      <th>sqft_living</th>\n",
       "      <th>floors</th>\n",
       "      <th>waterfront</th>\n",
       "      <th>view_1</th>\n",
       "      <th>view_2</th>\n",
       "      <th>view_3</th>\n",
       "      <th>view_4</th>\n",
       "    </tr>\n",
       "  </thead>\n",
       "  <tbody>\n",
       "    <tr>\n",
       "      <th>0</th>\n",
       "      <td>552100.0</td>\n",
       "      <td>3</td>\n",
       "      <td>3.00</td>\n",
       "      <td>1330</td>\n",
       "      <td>2.0</td>\n",
       "      <td>0</td>\n",
       "      <td>0</td>\n",
       "      <td>0</td>\n",
       "      <td>0</td>\n",
       "      <td>0</td>\n",
       "    </tr>\n",
       "    <tr>\n",
       "      <th>1</th>\n",
       "      <td>625000.0</td>\n",
       "      <td>3</td>\n",
       "      <td>2.50</td>\n",
       "      <td>2280</td>\n",
       "      <td>2.0</td>\n",
       "      <td>0</td>\n",
       "      <td>0</td>\n",
       "      <td>0</td>\n",
       "      <td>0</td>\n",
       "      <td>0</td>\n",
       "    </tr>\n",
       "    <tr>\n",
       "      <th>2</th>\n",
       "      <td>415000.0</td>\n",
       "      <td>2</td>\n",
       "      <td>1.00</td>\n",
       "      <td>980</td>\n",
       "      <td>1.0</td>\n",
       "      <td>0</td>\n",
       "      <td>0</td>\n",
       "      <td>0</td>\n",
       "      <td>0</td>\n",
       "      <td>0</td>\n",
       "    </tr>\n",
       "    <tr>\n",
       "      <th>3</th>\n",
       "      <td>675000.0</td>\n",
       "      <td>3</td>\n",
       "      <td>3.50</td>\n",
       "      <td>2300</td>\n",
       "      <td>1.0</td>\n",
       "      <td>0</td>\n",
       "      <td>0</td>\n",
       "      <td>0</td>\n",
       "      <td>0</td>\n",
       "      <td>0</td>\n",
       "    </tr>\n",
       "    <tr>\n",
       "      <th>4</th>\n",
       "      <td>575000.0</td>\n",
       "      <td>3</td>\n",
       "      <td>2.00</td>\n",
       "      <td>1750</td>\n",
       "      <td>1.0</td>\n",
       "      <td>0</td>\n",
       "      <td>0</td>\n",
       "      <td>1</td>\n",
       "      <td>0</td>\n",
       "      <td>0</td>\n",
       "    </tr>\n",
       "    <tr>\n",
       "      <th>5</th>\n",
       "      <td>327500.0</td>\n",
       "      <td>3</td>\n",
       "      <td>2.25</td>\n",
       "      <td>1770</td>\n",
       "      <td>1.0</td>\n",
       "      <td>0</td>\n",
       "      <td>0</td>\n",
       "      <td>0</td>\n",
       "      <td>0</td>\n",
       "      <td>0</td>\n",
       "    </tr>\n",
       "    <tr>\n",
       "      <th>6</th>\n",
       "      <td>140000.0</td>\n",
       "      <td>3</td>\n",
       "      <td>1.00</td>\n",
       "      <td>1000</td>\n",
       "      <td>1.0</td>\n",
       "      <td>0</td>\n",
       "      <td>0</td>\n",
       "      <td>0</td>\n",
       "      <td>0</td>\n",
       "      <td>0</td>\n",
       "    </tr>\n",
       "    <tr>\n",
       "      <th>7</th>\n",
       "      <td>322000.0</td>\n",
       "      <td>3</td>\n",
       "      <td>1.00</td>\n",
       "      <td>1230</td>\n",
       "      <td>1.0</td>\n",
       "      <td>0</td>\n",
       "      <td>0</td>\n",
       "      <td>0</td>\n",
       "      <td>0</td>\n",
       "      <td>0</td>\n",
       "    </tr>\n",
       "    <tr>\n",
       "      <th>8</th>\n",
       "      <td>356000.0</td>\n",
       "      <td>2</td>\n",
       "      <td>1.00</td>\n",
       "      <td>1430</td>\n",
       "      <td>1.0</td>\n",
       "      <td>0</td>\n",
       "      <td>0</td>\n",
       "      <td>0</td>\n",
       "      <td>0</td>\n",
       "      <td>0</td>\n",
       "    </tr>\n",
       "    <tr>\n",
       "      <th>9</th>\n",
       "      <td>260000.0</td>\n",
       "      <td>2</td>\n",
       "      <td>1.00</td>\n",
       "      <td>1410</td>\n",
       "      <td>1.5</td>\n",
       "      <td>0</td>\n",
       "      <td>0</td>\n",
       "      <td>0</td>\n",
       "      <td>0</td>\n",
       "      <td>0</td>\n",
       "    </tr>\n",
       "  </tbody>\n",
       "</table>\n",
       "</div>"
      ],
      "text/plain": [
       "      price  bedrooms  bathrooms  sqft_living  floors  waterfront  view_1  \\\n",
       "0  552100.0         3       3.00         1330     2.0           0       0   \n",
       "1  625000.0         3       2.50         2280     2.0           0       0   \n",
       "2  415000.0         2       1.00          980     1.0           0       0   \n",
       "3  675000.0         3       3.50         2300     1.0           0       0   \n",
       "4  575000.0         3       2.00         1750     1.0           0       0   \n",
       "5  327500.0         3       2.25         1770     1.0           0       0   \n",
       "6  140000.0         3       1.00         1000     1.0           0       0   \n",
       "7  322000.0         3       1.00         1230     1.0           0       0   \n",
       "8  356000.0         2       1.00         1430     1.0           0       0   \n",
       "9  260000.0         2       1.00         1410     1.5           0       0   \n",
       "\n",
       "   view_2  view_3  view_4  \n",
       "0       0       0       0  \n",
       "1       0       0       0  \n",
       "2       0       0       0  \n",
       "3       0       0       0  \n",
       "4       1       0       0  \n",
       "5       0       0       0  \n",
       "6       0       0       0  \n",
       "7       0       0       0  \n",
       "8       0       0       0  \n",
       "9       0       0       0  "
      ]
     },
     "execution_count": 11,
     "metadata": {},
     "output_type": "execute_result"
    }
   ],
   "source": [
    "df_encoded.head(10)"
   ]
  },
  {
   "cell_type": "code",
   "execution_count": 12,
   "id": "6d01cf15",
   "metadata": {},
   "outputs": [],
   "source": [
    "df_encoded[['price','bedrooms', 'bathrooms', 'sqft_living', 'floors']] = df_encoded[['price','bedrooms', 'bathrooms', 'sqft_living', 'floors']].apply(scaling_min_max) \n",
    "df_scaled = df_encoded.copy()"
   ]
  },
  {
   "cell_type": "code",
   "execution_count": 13,
   "id": "ede632c8",
   "metadata": {
    "scrolled": true
   },
   "outputs": [
    {
     "data": {
      "text/html": [
       "<div>\n",
       "<style scoped>\n",
       "    .dataframe tbody tr th:only-of-type {\n",
       "        vertical-align: middle;\n",
       "    }\n",
       "\n",
       "    .dataframe tbody tr th {\n",
       "        vertical-align: top;\n",
       "    }\n",
       "\n",
       "    .dataframe thead th {\n",
       "        text-align: right;\n",
       "    }\n",
       "</style>\n",
       "<table border=\"1\" class=\"dataframe\">\n",
       "  <thead>\n",
       "    <tr style=\"text-align: right;\">\n",
       "      <th></th>\n",
       "      <th>price</th>\n",
       "      <th>bedrooms</th>\n",
       "      <th>bathrooms</th>\n",
       "      <th>sqft_living</th>\n",
       "      <th>floors</th>\n",
       "      <th>waterfront</th>\n",
       "      <th>view_1</th>\n",
       "      <th>view_2</th>\n",
       "      <th>view_3</th>\n",
       "      <th>view_4</th>\n",
       "    </tr>\n",
       "  </thead>\n",
       "  <tbody>\n",
       "    <tr>\n",
       "      <th>0</th>\n",
       "      <td>0.090789</td>\n",
       "      <td>0.090909</td>\n",
       "      <td>0.461538</td>\n",
       "      <td>0.116059</td>\n",
       "      <td>0.4</td>\n",
       "      <td>0</td>\n",
       "      <td>0</td>\n",
       "      <td>0</td>\n",
       "      <td>0</td>\n",
       "      <td>0</td>\n",
       "    </tr>\n",
       "    <tr>\n",
       "      <th>1</th>\n",
       "      <td>0.104749</td>\n",
       "      <td>0.090909</td>\n",
       "      <td>0.384615</td>\n",
       "      <td>0.244265</td>\n",
       "      <td>0.4</td>\n",
       "      <td>0</td>\n",
       "      <td>0</td>\n",
       "      <td>0</td>\n",
       "      <td>0</td>\n",
       "      <td>0</td>\n",
       "    </tr>\n",
       "    <tr>\n",
       "      <th>2</th>\n",
       "      <td>0.064535</td>\n",
       "      <td>0.060606</td>\n",
       "      <td>0.153846</td>\n",
       "      <td>0.068826</td>\n",
       "      <td>0.0</td>\n",
       "      <td>0</td>\n",
       "      <td>0</td>\n",
       "      <td>0</td>\n",
       "      <td>0</td>\n",
       "      <td>0</td>\n",
       "    </tr>\n",
       "    <tr>\n",
       "      <th>3</th>\n",
       "      <td>0.114324</td>\n",
       "      <td>0.090909</td>\n",
       "      <td>0.538462</td>\n",
       "      <td>0.246964</td>\n",
       "      <td>0.0</td>\n",
       "      <td>0</td>\n",
       "      <td>0</td>\n",
       "      <td>0</td>\n",
       "      <td>0</td>\n",
       "      <td>0</td>\n",
       "    </tr>\n",
       "    <tr>\n",
       "      <th>4</th>\n",
       "      <td>0.095174</td>\n",
       "      <td>0.090909</td>\n",
       "      <td>0.307692</td>\n",
       "      <td>0.172740</td>\n",
       "      <td>0.0</td>\n",
       "      <td>0</td>\n",
       "      <td>0</td>\n",
       "      <td>1</td>\n",
       "      <td>0</td>\n",
       "      <td>0</td>\n",
       "    </tr>\n",
       "  </tbody>\n",
       "</table>\n",
       "</div>"
      ],
      "text/plain": [
       "      price  bedrooms  bathrooms  sqft_living  floors  waterfront  view_1  \\\n",
       "0  0.090789  0.090909   0.461538     0.116059     0.4           0       0   \n",
       "1  0.104749  0.090909   0.384615     0.244265     0.4           0       0   \n",
       "2  0.064535  0.060606   0.153846     0.068826     0.0           0       0   \n",
       "3  0.114324  0.090909   0.538462     0.246964     0.0           0       0   \n",
       "4  0.095174  0.090909   0.307692     0.172740     0.0           0       0   \n",
       "\n",
       "   view_2  view_3  view_4  \n",
       "0       0       0       0  \n",
       "1       0       0       0  \n",
       "2       0       0       0  \n",
       "3       0       0       0  \n",
       "4       1       0       0  "
      ]
     },
     "execution_count": 13,
     "metadata": {},
     "output_type": "execute_result"
    }
   ],
   "source": [
    "df_scaled.head()"
   ]
  },
  {
   "cell_type": "code",
   "execution_count": 14,
   "id": "d9dc6db9",
   "metadata": {
    "scrolled": false
   },
   "outputs": [
    {
     "data": {
      "text/html": [
       "<div>\n",
       "<style scoped>\n",
       "    .dataframe tbody tr th:only-of-type {\n",
       "        vertical-align: middle;\n",
       "    }\n",
       "\n",
       "    .dataframe tbody tr th {\n",
       "        vertical-align: top;\n",
       "    }\n",
       "\n",
       "    .dataframe thead th {\n",
       "        text-align: right;\n",
       "    }\n",
       "</style>\n",
       "<table border=\"1\" class=\"dataframe\">\n",
       "  <thead>\n",
       "    <tr style=\"text-align: right;\">\n",
       "      <th></th>\n",
       "      <th>price</th>\n",
       "      <th>bedrooms</th>\n",
       "      <th>bathrooms</th>\n",
       "      <th>sqft_living</th>\n",
       "      <th>floors</th>\n",
       "      <th>waterfront</th>\n",
       "      <th>view_1</th>\n",
       "      <th>view_2</th>\n",
       "      <th>view_3</th>\n",
       "      <th>view_4</th>\n",
       "    </tr>\n",
       "  </thead>\n",
       "  <tbody>\n",
       "    <tr>\n",
       "      <th>count</th>\n",
       "      <td>3000.000000</td>\n",
       "      <td>3000.000000</td>\n",
       "      <td>3000.000000</td>\n",
       "      <td>3000.000000</td>\n",
       "      <td>3000.000000</td>\n",
       "      <td>3000.000000</td>\n",
       "      <td>3000.000000</td>\n",
       "      <td>3000.000000</td>\n",
       "      <td>3000.000000</td>\n",
       "      <td>3000.000000</td>\n",
       "    </tr>\n",
       "    <tr>\n",
       "      <th>mean</th>\n",
       "      <td>0.087667</td>\n",
       "      <td>0.102657</td>\n",
       "      <td>0.324628</td>\n",
       "      <td>0.217827</td>\n",
       "      <td>0.199067</td>\n",
       "      <td>0.008000</td>\n",
       "      <td>0.018000</td>\n",
       "      <td>0.048333</td>\n",
       "      <td>0.022000</td>\n",
       "      <td>0.014667</td>\n",
       "    </tr>\n",
       "    <tr>\n",
       "      <th>std</th>\n",
       "      <td>0.066417</td>\n",
       "      <td>0.031827</td>\n",
       "      <td>0.117470</td>\n",
       "      <td>0.123680</td>\n",
       "      <td>0.218209</td>\n",
       "      <td>0.089099</td>\n",
       "      <td>0.132973</td>\n",
       "      <td>0.214505</td>\n",
       "      <td>0.146708</td>\n",
       "      <td>0.120235</td>\n",
       "    </tr>\n",
       "    <tr>\n",
       "      <th>min</th>\n",
       "      <td>0.000000</td>\n",
       "      <td>0.000000</td>\n",
       "      <td>0.000000</td>\n",
       "      <td>0.000000</td>\n",
       "      <td>0.000000</td>\n",
       "      <td>0.000000</td>\n",
       "      <td>0.000000</td>\n",
       "      <td>0.000000</td>\n",
       "      <td>0.000000</td>\n",
       "      <td>0.000000</td>\n",
       "    </tr>\n",
       "    <tr>\n",
       "      <th>25%</th>\n",
       "      <td>0.046917</td>\n",
       "      <td>0.090909</td>\n",
       "      <td>0.269231</td>\n",
       "      <td>0.129555</td>\n",
       "      <td>0.000000</td>\n",
       "      <td>0.000000</td>\n",
       "      <td>0.000000</td>\n",
       "      <td>0.000000</td>\n",
       "      <td>0.000000</td>\n",
       "      <td>0.000000</td>\n",
       "    </tr>\n",
       "    <tr>\n",
       "      <th>50%</th>\n",
       "      <td>0.071429</td>\n",
       "      <td>0.090909</td>\n",
       "      <td>0.346154</td>\n",
       "      <td>0.195682</td>\n",
       "      <td>0.200000</td>\n",
       "      <td>0.000000</td>\n",
       "      <td>0.000000</td>\n",
       "      <td>0.000000</td>\n",
       "      <td>0.000000</td>\n",
       "      <td>0.000000</td>\n",
       "    </tr>\n",
       "    <tr>\n",
       "      <th>75%</th>\n",
       "      <td>0.109537</td>\n",
       "      <td>0.121212</td>\n",
       "      <td>0.384615</td>\n",
       "      <td>0.280702</td>\n",
       "      <td>0.400000</td>\n",
       "      <td>0.000000</td>\n",
       "      <td>0.000000</td>\n",
       "      <td>0.000000</td>\n",
       "      <td>0.000000</td>\n",
       "      <td>0.000000</td>\n",
       "    </tr>\n",
       "    <tr>\n",
       "      <th>max</th>\n",
       "      <td>1.000000</td>\n",
       "      <td>1.000000</td>\n",
       "      <td>1.000000</td>\n",
       "      <td>1.000000</td>\n",
       "      <td>1.000000</td>\n",
       "      <td>1.000000</td>\n",
       "      <td>1.000000</td>\n",
       "      <td>1.000000</td>\n",
       "      <td>1.000000</td>\n",
       "      <td>1.000000</td>\n",
       "    </tr>\n",
       "  </tbody>\n",
       "</table>\n",
       "</div>"
      ],
      "text/plain": [
       "             price     bedrooms    bathrooms  sqft_living       floors  \\\n",
       "count  3000.000000  3000.000000  3000.000000  3000.000000  3000.000000   \n",
       "mean      0.087667     0.102657     0.324628     0.217827     0.199067   \n",
       "std       0.066417     0.031827     0.117470     0.123680     0.218209   \n",
       "min       0.000000     0.000000     0.000000     0.000000     0.000000   \n",
       "25%       0.046917     0.090909     0.269231     0.129555     0.000000   \n",
       "50%       0.071429     0.090909     0.346154     0.195682     0.200000   \n",
       "75%       0.109537     0.121212     0.384615     0.280702     0.400000   \n",
       "max       1.000000     1.000000     1.000000     1.000000     1.000000   \n",
       "\n",
       "        waterfront       view_1       view_2       view_3       view_4  \n",
       "count  3000.000000  3000.000000  3000.000000  3000.000000  3000.000000  \n",
       "mean      0.008000     0.018000     0.048333     0.022000     0.014667  \n",
       "std       0.089099     0.132973     0.214505     0.146708     0.120235  \n",
       "min       0.000000     0.000000     0.000000     0.000000     0.000000  \n",
       "25%       0.000000     0.000000     0.000000     0.000000     0.000000  \n",
       "50%       0.000000     0.000000     0.000000     0.000000     0.000000  \n",
       "75%       0.000000     0.000000     0.000000     0.000000     0.000000  \n",
       "max       1.000000     1.000000     1.000000     1.000000     1.000000  "
      ]
     },
     "execution_count": 14,
     "metadata": {},
     "output_type": "execute_result"
    }
   ],
   "source": [
    "df_scaled.describe()"
   ]
  },
  {
   "cell_type": "markdown",
   "id": "592b5b36",
   "metadata": {},
   "source": [
    "#### All numerical variables take places between 0 and 1."
   ]
  },
  {
   "cell_type": "markdown",
   "id": "e08c6b2e",
   "metadata": {},
   "source": [
    "#### Apply cross validation by using train-test split approach."
   ]
  },
  {
   "cell_type": "code",
   "execution_count": 15,
   "id": "d440126d",
   "metadata": {},
   "outputs": [],
   "source": [
    "# For reproducability\n",
    "np.random.seed(2001)\n",
    "\n",
    "# Splitting the data\n",
    "train_data, test_data = train_test_split(df_scaled, test_size=0.25, random_state=2001)\n",
    "X_train = train_data.drop(columns=\"price\")\n",
    "y_train = train_data[\"price\"]\n",
    "X_test = test_data.drop(columns=\"price\")\n",
    "y_test = test_data[\"price\"]\n"
   ]
  },
  {
   "cell_type": "markdown",
   "id": "6ad54ed4",
   "metadata": {},
   "source": [
    "#### Before training, get initial weights for comparison after training."
   ]
  },
  {
   "cell_type": "code",
   "execution_count": 16,
   "id": "d7b94bae",
   "metadata": {},
   "outputs": [
    {
     "name": "stdout",
     "output_type": "stream",
     "text": [
      "Initial Weights and Biases:\n",
      "Layer 0: [[-0.29032952]\n",
      " [-0.40382558]\n",
      " [ 0.71975386]\n",
      " [-0.7403038 ]\n",
      " [-0.75347614]\n",
      " [ 0.75623655]\n",
      " [-0.2954994 ]\n",
      " [-0.29480502]\n",
      " [ 0.37841642]]\n",
      "Layer 1: [0.]\n"
     ]
    }
   ],
   "source": [
    "model_inspect = Sequential() \n",
    "model_inspect.add(Dense(1, input_dim=X_train.shape[1], activation='linear'))\n",
    "\n",
    "model_inspect.compile(optimizer=Adam(), loss='mse') \n",
    "\n",
    "initial_weights = model_inspect.get_weights()\n",
    "\n",
    "print(\"Initial Weights and Biases:\")\n",
    "for i, w in enumerate(initial_weights):\n",
    "    print(f\"Layer {i}: {w}\")"
   ]
  },
  {
   "cell_type": "markdown",
   "id": "972dd33f",
   "metadata": {},
   "source": [
    "### Model 1 : A simple ANN"
   ]
  },
  {
   "cell_type": "code",
   "execution_count": 17,
   "id": "8992fbb8",
   "metadata": {},
   "outputs": [
    {
     "data": {
      "text/plain": [
       "<keras.src.callbacks.History at 0x2015c55d9d0>"
      ]
     },
     "execution_count": 17,
     "metadata": {},
     "output_type": "execute_result"
    }
   ],
   "source": [
    "model1 = Sequential()\n",
    "model1.add(Dense(1, input_dim=X_train.shape[1], activation='linear'))\n",
    "\n",
    "model1.compile(optimizer=Adam(), loss='mse')\n",
    "model1.fit(X_train, y_train, epochs=300, verbose=0)"
   ]
  },
  {
   "cell_type": "markdown",
   "id": "469cd6b7",
   "metadata": {},
   "source": [
    "#### Predictions, SSE, RMSE and Hyperparameter for Initial Model (Model 1)"
   ]
  },
  {
   "cell_type": "code",
   "execution_count": 18,
   "id": "7120ceb0",
   "metadata": {},
   "outputs": [
    {
     "name": "stdout",
     "output_type": "stream",
     "text": [
      "71/71 [==============================] - 0s 555us/step\n",
      "24/24 [==============================] - 0s 607us/step\n",
      "Model 1 - Train SSE: 0.0010680776493464626\n",
      "Model 1 - Test SSE: 0.0009970309299250865\n",
      "Model 1 - Train RMSE: 0.04621856011055434\n",
      "Model 1 - Test RMSE: 0.044654919772071845\n",
      "Optimizer: Adam\n",
      "Learning Rate: 0.001\n"
     ]
    }
   ],
   "source": [
    "pred_train1 = model1.predict(X_train).flatten()\n",
    "pred_test1 = model1.predict(X_test).flatten()\n",
    "\n",
    "SSE_1_train = np.sum((y_train - pred_train1) ** 2) / 2\n",
    "SSE_1_test = np.sum((y_test - pred_test1) ** 2) / 2\n",
    "\n",
    "print(\"Model 1 - Train SSE:\", SSE_1_train / len(y_train))\n",
    "print(\"Model 1 - Test SSE:\", SSE_1_test / len(y_test))\n",
    "\n",
    "rmse_train = np.sqrt(mean_squared_error(y_train, pred_train1))\n",
    "rmse_test = np.sqrt(mean_squared_error(y_test, pred_test1))\n",
    "\n",
    "print(\"Model 1 - Train RMSE:\", rmse_train)\n",
    "print(\"Model 1 - Test RMSE:\", rmse_test)\n",
    "\n",
    "optimizer = model1.optimizer\n",
    "print(\"Optimizer:\", type(optimizer).__name__)\n",
    "print(\"Learning Rate:\", optimizer.learning_rate.numpy())"
   ]
  },
  {
   "cell_type": "markdown",
   "id": "38ebb449",
   "metadata": {},
   "source": [
    "#### As one may observe, averages are close to each other for both metrics. Morever, Test SSE-RMSE are slightly lower than Train SSE-RMSE; hence, one may conclude that one overfitting exists. "
   ]
  },
  {
   "cell_type": "markdown",
   "id": "28b7c7c8",
   "metadata": {},
   "source": [
    "### Model 2 = ANN Model with 3 hidden layers"
   ]
  },
  {
   "cell_type": "code",
   "execution_count": 19,
   "id": "fac1e950",
   "metadata": {},
   "outputs": [
    {
     "data": {
      "text/plain": [
       "<keras.src.callbacks.History at 0x2015dc30e20>"
      ]
     },
     "execution_count": 19,
     "metadata": {},
     "output_type": "execute_result"
    }
   ],
   "source": [
    "model2 = Sequential()\n",
    "model2.add(Dense(4, input_dim=X_train.shape[1], activation='relu'))\n",
    "model2.add(Dense(3, activation='relu'))\n",
    "model2.add(Dense(2, activation='relu'))\n",
    "model2.add(Dense(1, activation='linear'))\n",
    "\n",
    "model2.compile(optimizer=Adam(learning_rate=0.01), loss='mse')\n",
    "model2.fit(X_train, y_train, epochs=300, verbose=0)"
   ]
  },
  {
   "cell_type": "markdown",
   "id": "81bf363b",
   "metadata": {},
   "source": [
    "#### Predictions, SSE, RMSE and Hyperparameter for Model 2"
   ]
  },
  {
   "cell_type": "code",
   "execution_count": 20,
   "id": "6d6141e9",
   "metadata": {},
   "outputs": [
    {
     "name": "stdout",
     "output_type": "stream",
     "text": [
      "71/71 [==============================] - 0s 988us/step\n",
      "24/24 [==============================] - 0s 650us/step\n",
      "Model 2 - Train SSE: 0.0011532651641134681\n",
      "Model 2 - Test SSE: 0.001141067412734554\n",
      "Model 1 - Train RMSE: 0.04802635035297744\n",
      "Model 1 - Test RMSE: 0.04777169481470286\n",
      "Optimizer: Adam\n",
      "Learning Rate: 0.01\n"
     ]
    }
   ],
   "source": [
    "pred_train2 = model2.predict(X_train).flatten()\n",
    "pred_test2 = model2.predict(X_test).flatten()\n",
    "\n",
    "SSE_2_train = np.sum((y_train - pred_train2) ** 2) / 2\n",
    "SSE_2_test = np.sum((y_test - pred_test2) ** 2) / 2\n",
    "\n",
    "print(\"Model 2 - Train SSE:\", SSE_2_train / len(y_train))\n",
    "print(\"Model 2 - Test SSE:\", SSE_2_test / len(y_test))\n",
    "\n",
    "rmse2_train = np.sqrt(mean_squared_error(y_train, pred_train2))\n",
    "rmse2_test = np.sqrt(mean_squared_error(y_test, pred_test2))\n",
    "\n",
    "print(\"Model 1 - Train RMSE:\", rmse2_train)\n",
    "print(\"Model 1 - Test RMSE:\", rmse2_test)\n",
    "\n",
    "optimizer = model2.optimizer\n",
    "print(\"Optimizer:\", type(optimizer).__name__)\n",
    "print(\"Learning Rate:\", optimizer.learning_rate.numpy())"
   ]
  },
  {
   "cell_type": "markdown",
   "id": "818b0395",
   "metadata": {},
   "source": [
    "### Model 3: ANN with 5-5 neurons in 2 layers"
   ]
  },
  {
   "cell_type": "code",
   "execution_count": 21,
   "id": "39c34351",
   "metadata": {
    "scrolled": true
   },
   "outputs": [
    {
     "name": "stdout",
     "output_type": "stream",
     "text": [
      "CPU times: total: 21.9 s\n",
      "Wall time: 15.6 s\n"
     ]
    },
    {
     "data": {
      "text/plain": [
       "<keras.src.callbacks.History at 0x201601a2d30>"
      ]
     },
     "execution_count": 21,
     "metadata": {},
     "output_type": "execute_result"
    }
   ],
   "source": [
    "model3 = Sequential()\n",
    "model3.add(Dense(5, input_dim=X_train.shape[1], activation='relu'))\n",
    "model3.add(Dense(5, activation='relu'))\n",
    "model3.add(Dense(1, activation='linear'))\n",
    "\n",
    "model3.compile(optimizer=Adam(learning_rate=0.01), loss='mse')\n",
    "%time model3.fit(X_train, y_train, epochs=300, verbose=0)"
   ]
  },
  {
   "cell_type": "markdown",
   "id": "807d9025",
   "metadata": {},
   "source": [
    "#### Predictions, SSE, RMSE and Hyperparameter for Model 3"
   ]
  },
  {
   "cell_type": "code",
   "execution_count": 22,
   "id": "1c01c0db",
   "metadata": {},
   "outputs": [
    {
     "name": "stdout",
     "output_type": "stream",
     "text": [
      "71/71 [==============================] - 0s 565us/step\n",
      "24/24 [==============================] - 0s 654us/step\n",
      "Model 3 - Train SSE: 0.0009152948100932122\n",
      "Model 3 - Test SSE: 0.000994311340940163\n",
      "Model 3 - Train RMSE: 0.04278539026567859\n",
      "Model 3 - Test RMSE: 0.04459397584742053\n",
      "Optimizer: Adam\n",
      "Learning Rate: 0.01\n"
     ]
    }
   ],
   "source": [
    "pred_train3 = model3.predict(X_train).flatten()\n",
    "pred_test3 = model3.predict(X_test).flatten()\n",
    "\n",
    "SSE_3_train = np.sum((y_train - pred_train3) ** 2) / 2\n",
    "SSE_3_test = np.sum((y_test - pred_test3) ** 2) / 2\n",
    "\n",
    "print(\"Model 3 - Train SSE:\", SSE_3_train / len(y_train))\n",
    "print(\"Model 3 - Test SSE:\", SSE_3_test / len(y_test))\n",
    "\n",
    "rmse3_train = np.sqrt(mean_squared_error(y_train, pred_train3))\n",
    "rmse3_test = np.sqrt(mean_squared_error(y_test, pred_test3))\n",
    "\n",
    "print(\"Model 3 - Train RMSE:\", rmse3_train)\n",
    "print(\"Model 3 - Test RMSE:\", rmse3_test)\n",
    "\n",
    "optimizer = model3.optimizer\n",
    "print(\"Optimizer:\", type(optimizer).__name__)\n",
    "print(\"Learning Rate:\", optimizer.learning_rate.numpy())"
   ]
  },
  {
   "cell_type": "markdown",
   "id": "b4edfdab",
   "metadata": {},
   "source": [
    "### Model 4 : 5–3 layout with 2 hidden layers"
   ]
  },
  {
   "cell_type": "code",
   "execution_count": 23,
   "id": "6774113e",
   "metadata": {},
   "outputs": [
    {
     "name": "stdout",
     "output_type": "stream",
     "text": [
      "CPU times: total: 22.7 s\n",
      "Wall time: 16.4 s\n"
     ]
    },
    {
     "data": {
      "text/plain": [
       "<keras.src.callbacks.History at 0x201607108e0>"
      ]
     },
     "execution_count": 23,
     "metadata": {},
     "output_type": "execute_result"
    }
   ],
   "source": [
    "model4 = Sequential()\n",
    "model4.add(Dense(5, input_dim=X_train.shape[1], activation='relu'))\n",
    "model4.add(Dense(3, activation='relu'))\n",
    "model4.add(Dense(1, activation='linear'))\n",
    "\n",
    "model4.compile(optimizer=Adam(learning_rate=0.01), loss='mse')\n",
    "%time model4.fit(X_train, y_train, epochs=300, verbose=0)"
   ]
  },
  {
   "cell_type": "markdown",
   "id": "1c4b0f54",
   "metadata": {},
   "source": [
    "#### Predictions, SSE, RMSE and Hyperparameter for Model 4"
   ]
  },
  {
   "cell_type": "code",
   "execution_count": 24,
   "id": "097f771e",
   "metadata": {},
   "outputs": [
    {
     "name": "stdout",
     "output_type": "stream",
     "text": [
      "71/71 [==============================] - 0s 1ms/step\n",
      "24/24 [==============================] - 0s 737us/step\n",
      "Model 4 - Train SSE: 0.0009152948100932122\n",
      "Model 4 - Test SSE: 0.000994311340940163\n",
      "Model 4 - Train RMSE: 0.0439488561338636\n",
      "Model 4 - Test RMSE: 0.04455942248149978\n",
      "Optimizer: Adam\n",
      "Learning Rate: 0.01\n"
     ]
    }
   ],
   "source": [
    "pred_train4 = model4.predict(X_train).flatten()\n",
    "pred_test4 = model4.predict(X_test).flatten()\n",
    "\n",
    "SSE_4_train = np.sum((y_train - pred_train3) ** 2) / 2\n",
    "SSE_4_test = np.sum((y_test - pred_test3) ** 2) / 2\n",
    "\n",
    "print(\"Model 4 - Train SSE:\", SSE_4_train / len(y_train))\n",
    "print(\"Model 4 - Test SSE:\", SSE_4_test / len(y_test))\n",
    "\n",
    "rmse4_train = np.sqrt(mean_squared_error(y_train, pred_train4))\n",
    "rmse4_test = np.sqrt(mean_squared_error(y_test, pred_test4))\n",
    "\n",
    "print(\"Model 4 - Train RMSE:\", rmse4_train)\n",
    "print(\"Model 4 - Test RMSE:\", rmse4_test)\n",
    "\n",
    "optimizer = model4.optimizer\n",
    "print(\"Optimizer:\", type(optimizer).__name__)\n",
    "print(\"Learning Rate:\", optimizer.learning_rate.numpy())"
   ]
  },
  {
   "cell_type": "markdown",
   "id": "e173b913",
   "metadata": {},
   "source": [
    "### Model 5 : 2 hidden layers of 5-3 layout with adjusted learning rate, epoch and batch size"
   ]
  },
  {
   "cell_type": "code",
   "execution_count": 25,
   "id": "1dd0d6c7",
   "metadata": {
    "scrolled": true
   },
   "outputs": [
    {
     "name": "stdout",
     "output_type": "stream",
     "text": [
      "CPU times: total: 13.1 s\n",
      "Wall time: 8.68 s\n"
     ]
    },
    {
     "data": {
      "text/plain": [
       "<keras.src.callbacks.History at 0x20161c87a60>"
      ]
     },
     "execution_count": 25,
     "metadata": {},
     "output_type": "execute_result"
    }
   ],
   "source": [
    "model5 = Sequential()\n",
    "model5.add(Dense(5, input_dim=X_train.shape[1], activation='relu'))\n",
    "model5.add(Dense(3, activation='relu'))\n",
    "model5.add(Dense(1, activation='linear'))\n",
    "\n",
    "model5.compile(optimizer=Adam(learning_rate=0.001), loss='mse')\n",
    "\n",
    "%time model4.fit(X_train, y_train, epochs=500, batch_size=128,verbose=0)"
   ]
  },
  {
   "cell_type": "markdown",
   "id": "e6041c8e",
   "metadata": {},
   "source": [
    "#### Predictions, SSE, RMSE and Hyperparameter for Model 5"
   ]
  },
  {
   "cell_type": "code",
   "execution_count": 26,
   "id": "2ef30296",
   "metadata": {
    "scrolled": true
   },
   "outputs": [
    {
     "name": "stdout",
     "output_type": "stream",
     "text": [
      "71/71 [==============================] - 0s 803us/step\n",
      "24/24 [==============================] - 0s 737us/step\n",
      "Model 5 - Train SSE: 0.005350923712027867\n",
      "Model 5 - Test SSE: 0.004845038945372462\n",
      "Model 5 - Train RMSE: 0.10344973380369682\n",
      "Model 5 - Test RMSE: 0.09843819325213626\n",
      "Optimizer: Adam\n",
      "Learning Rate: 0.001\n"
     ]
    }
   ],
   "source": [
    "pred_train5 = model5.predict(X_train).flatten()\n",
    "pred_test5 = model5.predict(X_test).flatten()\n",
    "\n",
    "SSE_5_train = np.sum((y_train - pred_train5) ** 2) / 2\n",
    "SSE_5_test = np.sum((y_test - pred_test5) ** 2) / 2\n",
    "\n",
    "print(\"Model 5 - Train SSE:\", SSE_5_train / len(y_train))\n",
    "print(\"Model 5 - Test SSE:\", SSE_5_test / len(y_test))\n",
    "\n",
    "rmse5_train = np.sqrt(mean_squared_error(y_train, pred_train5))\n",
    "rmse5_test = np.sqrt(mean_squared_error(y_test, pred_test5))\n",
    "\n",
    "print(\"Model 5 - Train RMSE:\", rmse5_train)\n",
    "print(\"Model 5 - Test RMSE:\", rmse5_test)\n",
    "\n",
    "optimizer = model5.optimizer\n",
    "print(\"Optimizer:\", type(optimizer).__name__)\n",
    "print(\"Learning Rate:\", optimizer.learning_rate.numpy())"
   ]
  },
  {
   "cell_type": "markdown",
   "id": "51b30b31",
   "metadata": {},
   "source": [
    "### Model 6 : ANN of 8-4 layout with 2 layers, hyperbolic tangent activation and glorot uniform initializer"
   ]
  },
  {
   "cell_type": "code",
   "execution_count": 27,
   "id": "b2d140b1",
   "metadata": {},
   "outputs": [
    {
     "name": "stdout",
     "output_type": "stream",
     "text": [
      "CPU times: total: 22.7 s\n",
      "Wall time: 15.9 s\n"
     ]
    },
    {
     "data": {
      "text/plain": [
       "<keras.src.callbacks.History at 0x20161ec3a90>"
      ]
     },
     "execution_count": 27,
     "metadata": {},
     "output_type": "execute_result"
    }
   ],
   "source": [
    "model_tanh = Sequential()\n",
    "model_tanh.add(Dense(8, \n",
    "                     input_dim=X_train.shape[1], \n",
    "                     activation='tanh', \n",
    "                     kernel_initializer='glorot_uniform'))\n",
    "model_tanh.add(Dense(4, \n",
    "                     activation='tanh', \n",
    "                     kernel_initializer='glorot_uniform'))\n",
    "model_tanh.add(Dense(1, \n",
    "                     activation='linear'))\n",
    "\n",
    "model_tanh.compile(optimizer=Adam(learning_rate=0.001), \n",
    "                   loss='mse', \n",
    "                   metrics=['RootMeanSquaredError'])\n",
    "\n",
    "%time model_tanh.fit(X_train, y_train, epochs=300, batch_size=32, verbose=0)"
   ]
  },
  {
   "cell_type": "markdown",
   "id": "e33b7b8c",
   "metadata": {},
   "source": [
    "#### Predictions, SSE, RMSE and Hyperparameter for Model 6"
   ]
  },
  {
   "cell_type": "code",
   "execution_count": 28,
   "id": "a5d2a53a",
   "metadata": {
    "scrolled": true
   },
   "outputs": [
    {
     "name": "stdout",
     "output_type": "stream",
     "text": [
      "71/71 [==============================] - 0s 559us/step\n",
      "24/24 [==============================] - 0s 607us/step\n",
      "Model 6 - Train SSE: 0.0009531964388721017\n",
      "Model 6 - Test SSE: 0.0009477637232699627\n",
      "Model 6 - Train RMSE: 0.043662259191940625\n",
      "Model 6 - Test RMSE: 0.0435376555011857\n",
      "Optimizer: Adam\n",
      "Learning Rate: 0.001\n"
     ]
    }
   ],
   "source": [
    "pred_train6 = model_tanh.predict(X_train).flatten()\n",
    "pred_test6 = model_tanh.predict(X_test).flatten()\n",
    "\n",
    "SSE_6_train = np.sum((y_train - pred_train6) ** 2) / 2\n",
    "SSE_6_test = np.sum((y_test - pred_test6) ** 2) / 2\n",
    "\n",
    "print(\"Model 6 - Train SSE:\", SSE_6_train / len(y_train))\n",
    "print(\"Model 6 - Test SSE:\", SSE_6_test / len(y_test))\n",
    "\n",
    "rmse6_train = np.sqrt(mean_squared_error(y_train, pred_train6))\n",
    "rmse6_test = np.sqrt(mean_squared_error(y_test, pred_test6))\n",
    "\n",
    "print(\"Model 6 - Train RMSE:\", rmse6_train)\n",
    "print(\"Model 6 - Test RMSE:\", rmse6_test)\n",
    "\n",
    "optimizer = model_tanh.optimizer\n",
    "print(\"Optimizer:\", type(optimizer).__name__)\n",
    "print(\"Learning Rate:\", optimizer.learning_rate.numpy())\n"
   ]
  },
  {
   "cell_type": "markdown",
   "id": "c33fd9ad",
   "metadata": {},
   "source": [
    "### Model 7 : ANN of 8-5-3 layout with 3 layers and hyperbolic tangent activation"
   ]
  },
  {
   "cell_type": "code",
   "execution_count": 29,
   "id": "608f6c8a",
   "metadata": {},
   "outputs": [
    {
     "name": "stdout",
     "output_type": "stream",
     "text": [
      "CPU times: total: 11.2 s\n",
      "Wall time: 6.86 s\n"
     ]
    },
    {
     "data": {
      "text/plain": [
       "<keras.src.callbacks.History at 0x2016357c070>"
      ]
     },
     "execution_count": 29,
     "metadata": {},
     "output_type": "execute_result"
    }
   ],
   "source": [
    "model7 = Sequential()\n",
    "model7.add(Dense(8, input_dim=X_train.shape[1], activation='tanh'))\n",
    "model7.add(Dense(5, activation='tanh'))\n",
    "model7.add(Dense(3, activation='tanh'))\n",
    "model7.add(Dense(1, activation='linear'))\n",
    "\n",
    "model7.compile(optimizer=Adam(learning_rate=0.001), loss='mse')\n",
    "\n",
    "%time model7.fit(X_train, y_train, epochs=500, batch_size=128, verbose=0)"
   ]
  },
  {
   "cell_type": "markdown",
   "id": "0aa81b52",
   "metadata": {},
   "source": [
    "#### Predictions, SSE, RMSE and Hyperparameter for Model 7"
   ]
  },
  {
   "cell_type": "code",
   "execution_count": 30,
   "id": "7abd064d",
   "metadata": {},
   "outputs": [
    {
     "name": "stdout",
     "output_type": "stream",
     "text": [
      "71/71 [==============================] - 0s 556us/step\n",
      "24/24 [==============================] - 0s 693us/step\n",
      "Model 7 - Train SSE: 0.0009380294831352115\n",
      "Model 7 - Test SSE: 0.0009182881315809946\n",
      "Model 7 - Train RMSE: 0.043313496352412176\n",
      "Model 7 - Test RMSE: 0.04285529445893459\n",
      "Optimizer: Adam\n",
      "Learning Rate: 0.001\n"
     ]
    }
   ],
   "source": [
    "pred_train7 = model7.predict(X_train).flatten()\n",
    "pred_test7 = model7.predict(X_test).flatten()\n",
    "\n",
    "SSE_7_train = np.sum((y_train - pred_train7) ** 2) / 2\n",
    "SSE_7_test = np.sum((y_test - pred_test7) ** 2) / 2\n",
    "\n",
    "print(\"Model 7 - Train SSE:\", SSE_7_train / len(y_train))\n",
    "print(\"Model 7 - Test SSE:\", SSE_7_test / len(y_test))\n",
    "\n",
    "rmse7_train = np.sqrt(mean_squared_error(y_train, pred_train7))\n",
    "rmse7_test = np.sqrt(mean_squared_error(y_test, pred_test7))\n",
    "\n",
    "print(\"Model 7 - Train RMSE:\", rmse7_train)\n",
    "print(\"Model 7 - Test RMSE:\", rmse7_test)\n",
    "\n",
    "optimizer = model7.optimizer\n",
    "print(\"Optimizer:\", type(optimizer).__name__)\n",
    "print(\"Learning Rate:\", optimizer.learning_rate.numpy())"
   ]
  },
  {
   "cell_type": "markdown",
   "id": "3ff61ad1",
   "metadata": {},
   "source": [
    "### Model 8 : ANN of 16-8-4 layout with 3 layers, swish activation and adjusted epoch, bath size and learning rate"
   ]
  },
  {
   "cell_type": "code",
   "execution_count": 31,
   "id": "d009944b",
   "metadata": {},
   "outputs": [
    {
     "name": "stdout",
     "output_type": "stream",
     "text": [
      "CPU times: total: 40.5 s\n",
      "Wall time: 26.5 s\n"
     ]
    },
    {
     "data": {
      "text/plain": [
       "<keras.src.callbacks.History at 0x20163944130>"
      ]
     },
     "execution_count": 31,
     "metadata": {},
     "output_type": "execute_result"
    }
   ],
   "source": [
    "model8 = Sequential()\n",
    "model8.add(Dense(16, input_dim=X_train.shape[1], activation='swish'))\n",
    "model8.add(Dense(8, activation='swish'))\n",
    "model8.add(Dense(4, activation='swish'))\n",
    "model8.add(Dense(1, activation='linear'))\n",
    "\n",
    "model8.compile(\n",
    "    optimizer=Adam(learning_rate=5e-4),\n",
    "    loss='mse'\n",
    ")\n",
    "\n",
    "%time model8.fit(X_train, y_train, epochs=1000, batch_size=64, verbose=0)"
   ]
  },
  {
   "cell_type": "markdown",
   "id": "82590e19",
   "metadata": {},
   "source": [
    "#### Predictions, SSE, RMSE and Hyperparameter for Model 8"
   ]
  },
  {
   "cell_type": "code",
   "execution_count": 32,
   "id": "41854fd8",
   "metadata": {},
   "outputs": [
    {
     "name": "stdout",
     "output_type": "stream",
     "text": [
      "71/71 [==============================] - 0s 602us/step\n",
      "24/24 [==============================] - 0s 651us/step\n",
      "Model 8 - Train SSE: 0.0009047245401035392\n",
      "Model 8 - Test SSE: 0.0009383712444019873\n",
      "Model 8 - Train RMSE: 0.04253761958792568\n",
      "Model 8 - Test RMSE: 0.04332138604435429\n",
      "Optimizer: Adam\n",
      "Learning Rate: 0.0005\n"
     ]
    }
   ],
   "source": [
    "pred_train8 = model8.predict(X_train).flatten()\n",
    "pred_test8 = model8.predict(X_test).flatten()\n",
    "\n",
    "SSE_8_train = np.sum((y_train - pred_train8) ** 2) / 2\n",
    "SSE_8_test = np.sum((y_test - pred_test8) ** 2) / 2\n",
    "\n",
    "print(\"Model 8 - Train SSE:\", SSE_8_train / len(y_train))\n",
    "print(\"Model 8 - Test SSE:\", SSE_8_test / len(y_test))\n",
    "\n",
    "rmse8_train = np.sqrt(mean_squared_error(y_train, pred_train8))\n",
    "rmse8_test = np.sqrt(mean_squared_error(y_test, pred_test8))\n",
    "\n",
    "print(\"Model 8 - Train RMSE:\", rmse8_train)\n",
    "print(\"Model 8 - Test RMSE:\", rmse8_test)\n",
    "\n",
    "optimizer = model8.optimizer\n",
    "print(\"Optimizer:\", type(optimizer).__name__)\n",
    "print(\"Learning Rate:\", optimizer.learning_rate.numpy())"
   ]
  },
  {
   "cell_type": "code",
   "execution_count": 38,
   "id": "da745bc9",
   "metadata": {
    "scrolled": false
   },
   "outputs": [
    {
     "data": {
      "image/png": "[encoded data removed]",
      "text/plain": [
       "<Figure size 1152x720 with 1 Axes>"
      ]
     },
     "metadata": {
      "needs_background": "light"
     },
     "output_type": "display_data"
    }
   ],
   "source": [
    "Regression_NN_Errors = pd.DataFrame({\n",
    "    \"Network\": [\"NN1\", \"NN1\", \"NN2\", \"NN2\", \"NN3\", \"NN3\", \"NN4\", \"NN4\",\n",
    "                \"NN5\", \"NN5\", \"NN6\", \"NN6\", \"NN7\", \"NN7\", \"NN8\", \"NN8\"],\n",
    "    \"Data\": [\"Train\", \"Test\"] * 8,\n",
    "    \"SSE\": [\n",
    "        SSE_1_train / len(y_train), SSE_1_test / len(y_test),\n",
    "        SSE_2_train / len(y_train), SSE_2_test / len(y_test),\n",
    "        SSE_3_train / len(y_train), SSE_3_test / len(y_test),\n",
    "        SSE_4_train / len(y_train), SSE_4_test / len(y_test),\n",
    "        SSE_5_train / len(y_train), SSE_5_test / len(y_test),\n",
    "        SSE_6_train / len(y_train), SSE_6_test / len(y_test),\n",
    "        SSE_7_train / len(y_train), SSE_7_test / len(y_test),\n",
    "        SSE_8_train / len(y_train), SSE_8_test / len(y_test)\n",
    "    ]\n",
    "})\n",
    "\n",
    "sns.barplot(data=Regression_NN_Errors, x=\"Network\", y=\"SSE\", hue=\"Data\")\n",
    "plt.title(\"Sum of Squared Errors (Per Sample) by Network and Dataset\")\n",
    "plt.show()"
   ]
  },
  {
   "cell_type": "code",
   "execution_count": 39,
   "id": "fdf460f9",
   "metadata": {},
   "outputs": [
    {
     "data": {
      "image/png": "[encoded data removed]",
      "text/plain": [
       "<Figure size 1152x720 with 1 Axes>"
      ]
     },
     "metadata": {
      "needs_background": "light"
     },
     "output_type": "display_data"
    }
   ],
   "source": [
    "Regression_NN_Errors_RMSE = pd.DataFrame({\n",
    "    \"Network\": [\"NN1\", \"NN1\", \"NN2\", \"NN2\", \"NN3\", \"NN3\", \"NN4\", \"NN4\",\n",
    "                \"NN5\", \"NN5\", \"NN6\", \"NN6\", \"NN7\", \"NN7\", \"NN8\", \"NN8\"],\n",
    "    \"Data\": [\"Train\", \"Test\"] * 8,\n",
    "    \"RMSE\": [\n",
    "        np.sqrt(SSE_1_train / len(y_train)), np.sqrt(SSE_1_test / len(y_test)),\n",
    "        np.sqrt(SSE_2_train / len(y_train)), np.sqrt(SSE_2_test / len(y_test)),\n",
    "        np.sqrt(SSE_3_train / len(y_train)), np.sqrt(SSE_3_test / len(y_test)),\n",
    "        np.sqrt(SSE_4_train / len(y_train)), np.sqrt(SSE_4_test / len(y_test)),\n",
    "        np.sqrt(SSE_5_train / len(y_train)), np.sqrt(SSE_5_test / len(y_test)),\n",
    "        np.sqrt(SSE_6_train / len(y_train)), np.sqrt(SSE_6_test / len(y_test)),\n",
    "        np.sqrt(SSE_7_train / len(y_train)), np.sqrt(SSE_7_test / len(y_test)),\n",
    "        np.sqrt(SSE_8_train / len(y_train)), np.sqrt(SSE_8_test / len(y_test))\n",
    "    ]\n",
    "})\n",
    "\n",
    "sns.barplot(data=Regression_NN_Errors_RMSE, x=\"Network\", y=\"RMSE\", hue=\"Data\")\n",
    "plt.title(\"Root Mean Squared Error (RMSE) by Network and Dataset\")\n",
    "plt.show()"
   ]
  },
  {
   "cell_type": "markdown",
   "id": "c8f30742",
   "metadata": {},
   "source": [
    "## It is clear that fifth model is a washout. For model 3, model 4 and model 8, training errors are slightly lower than test errors. Since difference between training and test errors are not noticeably high, one may conclude that overfitting is not a problem for this case."
   ]
  },
  {
   "cell_type": "code",
   "execution_count": 35,
   "id": "133ef9c7",
   "metadata": {},
   "outputs": [
    {
     "data": {
      "text/html": [
       "<div>\n",
       "<style scoped>\n",
       "    .dataframe tbody tr th:only-of-type {\n",
       "        vertical-align: middle;\n",
       "    }\n",
       "\n",
       "    .dataframe tbody tr th {\n",
       "        vertical-align: top;\n",
       "    }\n",
       "\n",
       "    .dataframe thead th {\n",
       "        text-align: right;\n",
       "    }\n",
       "</style>\n",
       "<table border=\"1\" class=\"dataframe\">\n",
       "  <thead>\n",
       "    <tr style=\"text-align: right;\">\n",
       "      <th></th>\n",
       "      <th>SSE_Train</th>\n",
       "      <th>SSE_Test</th>\n",
       "      <th>RMSE_Train</th>\n",
       "      <th>RMSE_Test</th>\n",
       "    </tr>\n",
       "    <tr>\n",
       "      <th>Network</th>\n",
       "      <th></th>\n",
       "      <th></th>\n",
       "      <th></th>\n",
       "      <th></th>\n",
       "    </tr>\n",
       "  </thead>\n",
       "  <tbody>\n",
       "    <tr>\n",
       "      <th>NN8</th>\n",
       "      <td>0.000938</td>\n",
       "      <td>0.000905</td>\n",
       "      <td>0.030633</td>\n",
       "      <td>0.030079</td>\n",
       "    </tr>\n",
       "    <tr>\n",
       "      <th>NN3</th>\n",
       "      <td>0.000994</td>\n",
       "      <td>0.000915</td>\n",
       "      <td>0.031533</td>\n",
       "      <td>0.030254</td>\n",
       "    </tr>\n",
       "    <tr>\n",
       "      <th>NN4</th>\n",
       "      <td>0.000994</td>\n",
       "      <td>0.000915</td>\n",
       "      <td>0.031533</td>\n",
       "      <td>0.030254</td>\n",
       "    </tr>\n",
       "    <tr>\n",
       "      <th>NN7</th>\n",
       "      <td>0.000918</td>\n",
       "      <td>0.000938</td>\n",
       "      <td>0.030303</td>\n",
       "      <td>0.030627</td>\n",
       "    </tr>\n",
       "    <tr>\n",
       "      <th>NN6</th>\n",
       "      <td>0.000948</td>\n",
       "      <td>0.000953</td>\n",
       "      <td>0.030786</td>\n",
       "      <td>0.030874</td>\n",
       "    </tr>\n",
       "    <tr>\n",
       "      <th>NN1</th>\n",
       "      <td>0.000997</td>\n",
       "      <td>0.001068</td>\n",
       "      <td>0.031576</td>\n",
       "      <td>0.032681</td>\n",
       "    </tr>\n",
       "    <tr>\n",
       "      <th>NN2</th>\n",
       "      <td>0.001141</td>\n",
       "      <td>0.001153</td>\n",
       "      <td>0.033780</td>\n",
       "      <td>0.033960</td>\n",
       "    </tr>\n",
       "    <tr>\n",
       "      <th>NN5</th>\n",
       "      <td>0.004845</td>\n",
       "      <td>0.005351</td>\n",
       "      <td>0.069606</td>\n",
       "      <td>0.073150</td>\n",
       "    </tr>\n",
       "  </tbody>\n",
       "</table>\n",
       "</div>"
      ],
      "text/plain": [
       "         SSE_Train  SSE_Test  RMSE_Train  RMSE_Test\n",
       "Network                                            \n",
       "NN8       0.000938  0.000905    0.030633   0.030079\n",
       "NN3       0.000994  0.000915    0.031533   0.030254\n",
       "NN4       0.000994  0.000915    0.031533   0.030254\n",
       "NN7       0.000918  0.000938    0.030303   0.030627\n",
       "NN6       0.000948  0.000953    0.030786   0.030874\n",
       "NN1       0.000997  0.001068    0.031576   0.032681\n",
       "NN2       0.001141  0.001153    0.033780   0.033960\n",
       "NN5       0.004845  0.005351    0.069606   0.073150"
      ]
     },
     "execution_count": 35,
     "metadata": {},
     "output_type": "execute_result"
    }
   ],
   "source": [
    "df_rmse = Regression_NN_Errors_RMSE.pivot(index=\"Network\", columns=\"Data\", values=\"RMSE\")\n",
    "df_sse  = Regression_NN_Errors.pivot(index=\"Network\", columns=\"Data\", values=\"SSE\")\n",
    "\n",
    "df_rmse.columns = ['RMSE_Train', 'RMSE_Test']\n",
    "df_sse.columns  = ['SSE_Train',  'SSE_Test']\n",
    "\n",
    "comparison_df = pd.concat([df_sse, df_rmse], axis=1)\n",
    "\n",
    "comparison_df = comparison_df.sort_values(by='RMSE_Test')\n",
    "\n",
    "comparison_df"
   ]
  },
  {
   "cell_type": "markdown",
   "id": "f97eeb25",
   "metadata": {},
   "source": [
    "## According to the plots above and error table, 8th model can be choosen as best model because it achieved lowest test SSE and RMSE. However, error results are close to each other with other models except 5th one. Then, if one prefers a simple architecture design, 3rd and 4th models also may be useful."
   ]
  }
 ],
 "metadata": {
  "kernelspec": {
   "display_name": "Python 3 (ipykernel)",
   "language": "python",
   "name": "python3"
  },
  "language_info": {
   "codemirror_mode": {
    "name": "ipython",
    "version": 3
   },
   "file_extension": ".py",
   "mimetype": "text/x-python",
   "name": "python",
   "nbconvert_exporter": "python",
   "pygments_lexer": "ipython3",
   "version": "3.9.6"
  }
 },
 "nbformat": 4,
 "nbformat_minor": 5
}
